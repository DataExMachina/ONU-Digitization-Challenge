{
 "cells": [
  {
   "cell_type": "markdown",
   "metadata": {},
   "source": [
    "### Packages"
   ]
  },
  {
   "cell_type": "code",
   "execution_count": 1,
   "metadata": {},
   "outputs": [],
   "source": [
    "import pandas as pd\n",
    "import numpy as np \n",
    "from sklearn.feature_extraction.text import TfidfVectorizer\n",
    "from scipy.sparse import csc_matrix, hstack\n",
    "import lightgbm as lgb\n",
    "from sklearn.metrics import f1_score\n",
    "import gc\n",
    "import os\n",
    "import re\n",
    "\n",
    "%matplotlib inline"
   ]
  },
  {
   "cell_type": "markdown",
   "metadata": {},
   "source": [
    "### Read data"
   ]
  },
  {
   "cell_type": "code",
   "execution_count": 2,
   "metadata": {},
   "outputs": [],
   "source": [
    "train = pd.read_csv('../data/dataframe/train.csv')\n",
    "test = pd.read_csv('../data/dataframe/test.csv')"
   ]
  },
  {
   "cell_type": "markdown",
   "metadata": {},
   "source": [
    "### Feature extraction"
   ]
  },
  {
   "cell_type": "code",
   "execution_count": 3,
   "metadata": {},
   "outputs": [],
   "source": [
    "def text_cleaner(text):\n",
    "    \n",
    "    text = re.sub(r'[^a-z]+', ' ', text.lower())\n",
    "    return(text)"
   ]
  },
  {
   "cell_type": "code",
   "execution_count": 4,
   "metadata": {},
   "outputs": [
    {
     "data": {
      "text/plain": [
       "TfidfVectorizer(analyzer='word', binary=False, decode_error='strict',\n",
       "        dtype=<class 'numpy.int64'>, encoding='utf-8', input='content',\n",
       "        lowercase=True, max_df=1.0, max_features=25000, min_df=1,\n",
       "        ngram_range=(1, 10), norm='l2',\n",
       "        preprocessor=<function text_cleaner at 0x7ff4758a1620>,\n",
       "        smooth_idf=True, stop_words=None, strip_accents=None,\n",
       "        sublinear_tf=False, token_pattern='(?u)\\\\b\\\\w\\\\w+\\\\b',\n",
       "        tokenizer=None, use_idf=True, vocabulary=None)"
      ]
     },
     "execution_count": 4,
     "metadata": {},
     "output_type": "execute_result"
    }
   ],
   "source": [
    "### english\n",
    "tf_en = TfidfVectorizer(ngram_range=(1,10), max_features=25000, preprocessor=text_cleaner)\n",
    "tf_en.fit(train[train.type == \"english\"].text.tolist())\n",
    "\n",
    "### french\n",
    "tf_fr = TfidfVectorizer(ngram_range=(1,10), max_features=25000, preprocessor=text_cleaner)\n",
    "tf_fr.fit(train[train.type == \"french\"].text.tolist())"
   ]
  },
  {
   "cell_type": "markdown",
   "metadata": {},
   "source": [
    "extraire uniquement les stopwords en anglais et francais car tfidf est censé les écarter naturellement"
   ]
  },
  {
   "cell_type": "code",
   "execution_count": 5,
   "metadata": {
    "scrolled": false
   },
   "outputs": [],
   "source": [
    "X = hstack([tf_en.transform(train.text.tolist()), tf_fr.transform(train.text.tolist())])\n",
    "\n",
    "y = [1 if x == 'english' else 0 for x in train.type.tolist()]\n",
    "\n",
    "columns = list(tf_en.vocabulary_) + list(tf_fr.vocabulary_)\n",
    "\n",
    "Xtest = hstack([tf_en.transform(test.text.tolist()), tf_fr.transform(test.text.tolist())])"
   ]
  },
  {
   "cell_type": "code",
   "execution_count": 6,
   "metadata": {},
   "outputs": [
    {
     "data": {
      "text/plain": [
       "0"
      ]
     },
     "execution_count": 6,
     "metadata": {},
     "output_type": "execute_result"
    }
   ],
   "source": [
    "gc.collect()"
   ]
  },
  {
   "cell_type": "markdown",
   "metadata": {},
   "source": [
    "### Machine learning"
   ]
  },
  {
   "cell_type": "code",
   "execution_count": 7,
   "metadata": {},
   "outputs": [],
   "source": [
    "lgbTrain = lgb.Dataset(X, y, feature_name = columns, free_raw_data = True)"
   ]
  },
  {
   "cell_type": "code",
   "execution_count": 8,
   "metadata": {},
   "outputs": [],
   "source": [
    "params = {'objective': 'binary',\n",
    "          'learning_rate' : 0.1}\n",
    "\n",
    "# https://stackoverflow.com/questions/50931168/f1-score-metric-in-lightgbm\n",
    "def lgb_f1_score(y_hat, data):\n",
    "    y_true = data.get_label()\n",
    "    y_hat = np.round(y_hat)\n",
    "    return 'f1', f1_score(y_true, y_hat), True"
   ]
  },
  {
   "cell_type": "code",
   "execution_count": 9,
   "metadata": {},
   "outputs": [
    {
     "name": "stdout",
     "output_type": "stream",
     "text": [
      "[10]\tcv_agg's f1: 0.896088 + 0.0181614\tcv_agg's binary_logloss: 0.353085 + 0.0165223\n",
      "[20]\tcv_agg's f1: 0.898295 + 0.0188153\tcv_agg's binary_logloss: 0.27055 + 0.022467\n",
      "[30]\tcv_agg's f1: 0.899197 + 0.0179329\tcv_agg's binary_logloss: 0.243784 + 0.0244512\n",
      "[40]\tcv_agg's f1: 0.903292 + 0.014575\tcv_agg's binary_logloss: 0.234832 + 0.0240525\n",
      "[50]\tcv_agg's f1: 0.902468 + 0.015708\tcv_agg's binary_logloss: 0.232081 + 0.0270755\n",
      "[60]\tcv_agg's f1: 0.902689 + 0.0146661\tcv_agg's binary_logloss: 0.233418 + 0.0280358\n",
      "[70]\tcv_agg's f1: 0.905232 + 0.014164\tcv_agg's binary_logloss: 0.237057 + 0.0286937\n",
      "[80]\tcv_agg's f1: 0.905016 + 0.0115553\tcv_agg's binary_logloss: 0.241458 + 0.0308586\n",
      "[90]\tcv_agg's f1: 0.905436 + 0.0125003\tcv_agg's binary_logloss: 0.24766 + 0.0327531\n",
      "[100]\tcv_agg's f1: 0.905809 + 0.0114351\tcv_agg's binary_logloss: 0.253576 + 0.0330366\n",
      "[110]\tcv_agg's f1: 0.905461 + 0.0106695\tcv_agg's binary_logloss: 0.259679 + 0.034959\n",
      "[120]\tcv_agg's f1: 0.902715 + 0.0103133\tcv_agg's binary_logloss: 0.2667 + 0.0366942\n",
      "[130]\tcv_agg's f1: 0.905427 + 0.0118531\tcv_agg's binary_logloss: 0.272757 + 0.0388513\n",
      "[140]\tcv_agg's f1: 0.905324 + 0.0115517\tcv_agg's binary_logloss: 0.280611 + 0.0409854\n",
      "[150]\tcv_agg's f1: 0.906503 + 0.0124315\tcv_agg's binary_logloss: 0.287422 + 0.0423697\n"
     ]
    }
   ],
   "source": [
    "lgbCv = lgb.cv(params, lgbTrain,\n",
    "               num_boost_round = 150, stratified = True,\n",
    "               shuffle = True, nfold = 10, feval = lgb_f1_score, verbose_eval = 10, seed = 2701)"
   ]
  },
  {
   "cell_type": "code",
   "execution_count": 10,
   "metadata": {},
   "outputs": [
    {
     "data": {
      "text/plain": [
       "91"
      ]
     },
     "execution_count": 10,
     "metadata": {},
     "output_type": "execute_result"
    }
   ],
   "source": [
    "bestIter = int(lgbCv['f1-mean'].index(max(lgbCv['f1-mean']))/(1-1/10))\n",
    "bestIter"
   ]
  },
  {
   "cell_type": "code",
   "execution_count": 11,
   "metadata": {},
   "outputs": [],
   "source": [
    "lgbModel = lgb.train(params, lgbTrain, num_boost_round = bestIter)"
   ]
  },
  {
   "cell_type": "code",
   "execution_count": 12,
   "metadata": {},
   "outputs": [
    {
     "data": {
      "text/plain": [
       "<matplotlib.axes._subplots.AxesSubplot at 0x7ff424364160>"
      ]
     },
     "execution_count": 12,
     "metadata": {},
     "output_type": "execute_result"
    },
    {
     "data": {
      "image/png": "[encoded data removed]",
      "text/plain": [
       "<Figure size 432x288 with 1 Axes>"
      ]
     },
     "metadata": {
      "needs_background": "light"
     },
     "output_type": "display_data"
    }
   ],
   "source": [
    "lgb.plot_importance(lgbModel, max_num_features = 25)"
   ]
  },
  {
   "cell_type": "markdown",
   "metadata": {},
   "source": [
    "### Predict and save"
   ]
  },
  {
   "cell_type": "code",
   "execution_count": 13,
   "metadata": {},
   "outputs": [
    {
     "name": "stderr",
     "output_type": "stream",
     "text": [
      "/home/dataexmachina/DataProjects/CrowdAI/ONU_DigitalizationChallenge/crowdai-venv/lib/python3.5/site-packages/lightgbm/basic.py:448: UserWarning: Converting data to scipy sparse matrix.\n",
      "  warnings.warn('Converting data to scipy sparse matrix.')\n"
     ]
    }
   ],
   "source": [
    "test['en'] = np.round(lgbModel.predict(Xtest))\n",
    "test['fr'] = 1 - test['en']"
   ]
  },
  {
   "cell_type": "code",
   "execution_count": 14,
   "metadata": {},
   "outputs": [
    {
     "data": {
      "text/html": [
       "<div>\n",
       "<style scoped>\n",
       "    .dataframe tbody tr th:only-of-type {\n",
       "        vertical-align: middle;\n",
       "    }\n",
       "\n",
       "    .dataframe tbody tr th {\n",
       "        vertical-align: top;\n",
       "    }\n",
       "\n",
       "    .dataframe thead th {\n",
       "        text-align: right;\n",
       "    }\n",
       "</style>\n",
       "<table border=\"1\" class=\"dataframe\">\n",
       "  <thead>\n",
       "    <tr style=\"text-align: right;\">\n",
       "      <th></th>\n",
       "      <th>id</th>\n",
       "      <th>text</th>\n",
       "      <th>en</th>\n",
       "      <th>fr</th>\n",
       "    </tr>\n",
       "  </thead>\n",
       "  <tbody>\n",
       "    <tr>\n",
       "      <th>0</th>\n",
       "      <td>56d0687284da6482faaa4a9afede7722</td>\n",
       "      <td>DLiasus O° NATIONS.\\n\\nveneva, Mereh 20th, 193...</td>\n",
       "      <td>1.0</td>\n",
       "      <td>0.0</td>\n",
       "    </tr>\n",
       "    <tr>\n",
       "      <th>1</th>\n",
       "      <td>8e988cca9bab61b6ef4c1ae5b742c5aa</td>\n",
       "      <td>nowonts\\n\\nNombres-indices par rapport aux chi...</td>\n",
       "      <td>1.0</td>\n",
       "      <td>0.0</td>\n",
       "    </tr>\n",
       "    <tr>\n",
       "      <th>2</th>\n",
       "      <td>b6e026cc2c57ae5c3cf0dd19ddd607b0</td>\n",
       "      <td>\\n\\nPEERS.\\n\\n \\n\\n \\n\\nko further l¢zislatio...</td>\n",
       "      <td>1.0</td>\n",
       "      <td>0.0</td>\n",
       "    </tr>\n",
       "    <tr>\n",
       "      <th>3</th>\n",
       "      <td>e0aff017251bc023e4ff44fd8b701456</td>\n",
       "      <td>Sea\\n\\nThe construction of 2,742 houses repres...</td>\n",
       "      <td>1.0</td>\n",
       "      <td>0.0</td>\n",
       "    </tr>\n",
       "    <tr>\n",
       "      <th>4</th>\n",
       "      <td>5e484277809181c2c873beffffda182c</td>\n",
       "      <td>&lt;p\\n\\nBudget (continued) -\\n\\nMonthly (continu...</td>\n",
       "      <td>1.0</td>\n",
       "      <td>0.0</td>\n",
       "    </tr>\n",
       "  </tbody>\n",
       "</table>\n",
       "</div>"
      ],
      "text/plain": [
       "                                 id  \\\n",
       "0  56d0687284da6482faaa4a9afede7722   \n",
       "1  8e988cca9bab61b6ef4c1ae5b742c5aa   \n",
       "2  b6e026cc2c57ae5c3cf0dd19ddd607b0   \n",
       "3  e0aff017251bc023e4ff44fd8b701456   \n",
       "4  5e484277809181c2c873beffffda182c   \n",
       "\n",
       "                                                text   en   fr  \n",
       "0  DLiasus O° NATIONS.\\n\\nveneva, Mereh 20th, 193...  1.0  0.0  \n",
       "1  nowonts\\n\\nNombres-indices par rapport aux chi...  1.0  0.0  \n",
       "2   \\n\\nPEERS.\\n\\n \\n\\n \\n\\nko further l¢zislatio...  1.0  0.0  \n",
       "3  Sea\\n\\nThe construction of 2,742 houses repres...  1.0  0.0  \n",
       "4  <p\\n\\nBudget (continued) -\\n\\nMonthly (continu...  1.0  0.0  "
      ]
     },
     "execution_count": 14,
     "metadata": {},
     "output_type": "execute_result"
    }
   ],
   "source": [
    "test.head()"
   ]
  },
  {
   "cell_type": "code",
   "execution_count": 15,
   "metadata": {},
   "outputs": [],
   "source": [
    "test = test[['id', 'en', 'fr']]\n",
    "test.columns = ['filename', 'en', 'fr']\n",
    "test['filename'] = list(map(lambda x: x+'.jpg', test.filename.tolist()))"
   ]
  },
  {
   "cell_type": "code",
   "execution_count": 16,
   "metadata": {},
   "outputs": [],
   "source": [
    "try:\n",
    "    os.mkdir('../submit')\n",
    "except: None\n",
    "    \n",
    "test.to_csv('../submit/lgb2.csv', index = False)"
   ]
  },
  {
   "cell_type": "code",
   "execution_count": 17,
   "metadata": {},
   "outputs": [
    {
     "data": {
      "text/html": [
       "<div>\n",
       "<style scoped>\n",
       "    .dataframe tbody tr th:only-of-type {\n",
       "        vertical-align: middle;\n",
       "    }\n",
       "\n",
       "    .dataframe tbody tr th {\n",
       "        vertical-align: top;\n",
       "    }\n",
       "\n",
       "    .dataframe thead th {\n",
       "        text-align: right;\n",
       "    }\n",
       "</style>\n",
       "<table border=\"1\" class=\"dataframe\">\n",
       "  <thead>\n",
       "    <tr style=\"text-align: right;\">\n",
       "      <th></th>\n",
       "      <th>filename</th>\n",
       "      <th>en</th>\n",
       "      <th>fr</th>\n",
       "    </tr>\n",
       "  </thead>\n",
       "  <tbody>\n",
       "    <tr>\n",
       "      <th>0</th>\n",
       "      <td>56d0687284da6482faaa4a9afede7722.jpg</td>\n",
       "      <td>1.0</td>\n",
       "      <td>0.0</td>\n",
       "    </tr>\n",
       "    <tr>\n",
       "      <th>1</th>\n",
       "      <td>8e988cca9bab61b6ef4c1ae5b742c5aa.jpg</td>\n",
       "      <td>1.0</td>\n",
       "      <td>0.0</td>\n",
       "    </tr>\n",
       "    <tr>\n",
       "      <th>2</th>\n",
       "      <td>b6e026cc2c57ae5c3cf0dd19ddd607b0.jpg</td>\n",
       "      <td>1.0</td>\n",
       "      <td>0.0</td>\n",
       "    </tr>\n",
       "    <tr>\n",
       "      <th>3</th>\n",
       "      <td>e0aff017251bc023e4ff44fd8b701456.jpg</td>\n",
       "      <td>1.0</td>\n",
       "      <td>0.0</td>\n",
       "    </tr>\n",
       "    <tr>\n",
       "      <th>4</th>\n",
       "      <td>5e484277809181c2c873beffffda182c.jpg</td>\n",
       "      <td>1.0</td>\n",
       "      <td>0.0</td>\n",
       "    </tr>\n",
       "  </tbody>\n",
       "</table>\n",
       "</div>"
      ],
      "text/plain": [
       "                               filename   en   fr\n",
       "0  56d0687284da6482faaa4a9afede7722.jpg  1.0  0.0\n",
       "1  8e988cca9bab61b6ef4c1ae5b742c5aa.jpg  1.0  0.0\n",
       "2  b6e026cc2c57ae5c3cf0dd19ddd607b0.jpg  1.0  0.0\n",
       "3  e0aff017251bc023e4ff44fd8b701456.jpg  1.0  0.0\n",
       "4  5e484277809181c2c873beffffda182c.jpg  1.0  0.0"
      ]
     },
     "execution_count": 17,
     "metadata": {},
     "output_type": "execute_result"
    }
   ],
   "source": [
    "test.head()"
   ]
  },
  {
   "cell_type": "code",
   "execution_count": null,
   "metadata": {},
   "outputs": [],
   "source": []
  }
 ],
 "metadata": {
  "kernelspec": {
   "display_name": "Python 3",
   "language": "python",
   "name": "python3"
  },
  "language_info": {
   "codemirror_mode": {
    "name": "ipython",
    "version": 3
   },
   "file_extension": ".py",
   "mimetype": "text/x-python",
   "name": "python",
   "nbconvert_exporter": "python",
   "pygments_lexer": "ipython3",
   "version": "3.5.2"
  }
 },
 "nbformat": 4,
 "nbformat_minor": 2
}
