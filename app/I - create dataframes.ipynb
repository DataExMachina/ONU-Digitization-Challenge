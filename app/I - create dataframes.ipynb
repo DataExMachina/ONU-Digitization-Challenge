{
 "cells": [
  {
   "cell_type": "markdown",
   "metadata": {},
   "source": [
    "### Packages"
   ]
  },
  {
   "cell_type": "code",
   "execution_count": 1,
   "metadata": {},
   "outputs": [],
   "source": [
    "import pandas as pd\n",
    "import os"
   ]
  },
  {
   "cell_type": "markdown",
   "metadata": {},
   "source": [
    "### Data : train"
   ]
  },
  {
   "cell_type": "code",
   "execution_count": 2,
   "metadata": {},
   "outputs": [],
   "source": [
    "dictEnglishTrain = {}\n",
    "for f in os.listdir('../data/text/train/en/'):\n",
    "    with open('../data/text/train/en/'+f) as file:\n",
    "        dictEnglishTrain[f[:-4]] = file.read()\n",
    "        \n",
    "dfEnglishTrain = pd.DataFrame.from_dict(dictEnglishTrain, orient='index').reset_index()\n",
    "dfEnglishTrain.columns = ['id', 'text']\n",
    "dfEnglishTrain['type'] = 'english'"
   ]
  },
  {
   "cell_type": "code",
   "execution_count": 3,
   "metadata": {},
   "outputs": [],
   "source": [
    "dictFrenchTrain = {}\n",
    "for f in os.listdir('../data/text/train/fr/'):\n",
    "    with open('../data/text/train/fr/'+f) as file:\n",
    "        dictFrenchTrain[f[:-4]] = file.read()\n",
    "        \n",
    "dfFrenchTrain = pd.DataFrame.from_dict(dictFrenchTrain, orient='index').reset_index()\n",
    "dfFrenchTrain.columns = ['id', 'text']\n",
    "dfFrenchTrain['type'] = 'french'"
   ]
  },
  {
   "cell_type": "code",
   "execution_count": 4,
   "metadata": {},
   "outputs": [],
   "source": [
    "dfTrain = pd.concat([dfEnglishTrain, dfFrenchTrain], sort = False)"
   ]
  },
  {
   "cell_type": "markdown",
   "metadata": {},
   "source": [
    "### Data : test"
   ]
  },
  {
   "cell_type": "code",
   "execution_count": 5,
   "metadata": {},
   "outputs": [],
   "source": [
    "dictTest = {}\n",
    "for f in os.listdir('../data/text/test/'):\n",
    "    with open('../data/text/test/'+f) as file:\n",
    "        dictTest[f[:-4]] = file.read()\n",
    "        \n",
    "dfTest = pd.DataFrame.from_dict(dictTest, orient='index').reset_index()\n",
    "dfTest.columns = ['id', 'text']"
   ]
  },
  {
   "cell_type": "markdown",
   "metadata": {},
   "source": [
    "### Write data"
   ]
  },
  {
   "cell_type": "code",
   "execution_count": 6,
   "metadata": {},
   "outputs": [],
   "source": [
    "try:\n",
    "    os.mkdir('../data/dataframe/')\n",
    "except: None\n",
    "    \n",
    "dfTrain.to_csv('../data/dataframe/train.csv', index = False)\n",
    "dfTest.to_csv('../data/dataframe/test.csv', index = False)"
   ]
  },
  {
   "cell_type": "code",
   "execution_count": null,
   "metadata": {},
   "outputs": [],
   "source": []
  }
 ],
 "metadata": {
  "kernelspec": {
   "display_name": "Python 3",
   "language": "python",
   "name": "python3"
  },
  "language_info": {
   "codemirror_mode": {
    "name": "ipython",
    "version": 3
   },
   "file_extension": ".py",
   "mimetype": "text/x-python",
   "name": "python",
   "nbconvert_exporter": "python",
   "pygments_lexer": "ipython3",
   "version": "3.5.2"
  }
 },
 "nbformat": 4,
 "nbformat_minor": 2
}
