{
 "cells": [
  {
   "cell_type": "markdown",
   "metadata": {},
   "source": [
    "### Packages"
   ]
  },
  {
   "cell_type": "code",
   "execution_count": 17,
   "metadata": {},
   "outputs": [],
   "source": [
    "import pandas as pd\n",
    "import numpy as np \n",
    "from sklearn.feature_extraction.text import TfidfVectorizer\n",
    "from scipy.sparse import csc_matrix, hstack\n",
    "import lightgbm as lgb\n",
    "from sklearn.metrics import f1_score\n",
    "import gc\n",
    "import os\n",
    "import re\n",
    "\n",
    "%matplotlib inline"
   ]
  },
  {
   "cell_type": "markdown",
   "metadata": {},
   "source": [
    "### Read data"
   ]
  },
  {
   "cell_type": "code",
   "execution_count": 2,
   "metadata": {},
   "outputs": [],
   "source": [
    "train = pd.read_csv('../data/dataframe/train.csv')\n",
    "test = pd.read_csv('../data/dataframe/test.csv')"
   ]
  },
  {
   "cell_type": "markdown",
   "metadata": {},
   "source": [
    "### Feature extraction"
   ]
  },
  {
   "cell_type": "code",
   "execution_count": 27,
   "metadata": {},
   "outputs": [],
   "source": [
    "def text_cleaner(text):\n",
    "    \n",
    "    text = re.sub(r'[^a-z]+', ' ', text.lower())\n",
    "    return(text)"
   ]
  },
  {
   "cell_type": "code",
   "execution_count": 3,
   "metadata": {},
   "outputs": [
    {
     "data": {
      "text/plain": [
       "TfidfVectorizer(analyzer='word', binary=False, decode_error='strict',\n",
       "        dtype=<class 'numpy.int64'>, encoding='utf-8', input='content',\n",
       "        lowercase=True, max_df=1.0, max_features=5000, min_df=1,\n",
       "        ngram_range=(1, 5), norm='l2', preprocessor=None, smooth_idf=True,\n",
       "        stop_words=None, strip_accents=None, sublinear_tf=False,\n",
       "        token_pattern='(?u)\\\\b\\\\w\\\\w+\\\\b', tokenizer=None, use_idf=True,\n",
       "        vocabulary=None)"
      ]
     },
     "execution_count": 3,
     "metadata": {},
     "output_type": "execute_result"
    }
   ],
   "source": [
    "### english\n",
    "tf_en = TfidfVectorizer(ngram_range=(1,10), max_features=25000, preprocessor=text_cleaner)\n",
    "tf_en.fit(train[train.type == \"english\"].text.tolist())\n",
    "\n",
    "### french\n",
    "tf_fr = TfidfVectorizer(ngram_range=(1,10), max_features=25000, preprocessor=text_cleaner)\n",
    "tf_fr.fit(train[train.type == \"french\"].text.tolist())"
   ]
  },
  {
   "cell_type": "markdown",
   "metadata": {},
   "source": [
    "extraire uniquement les stopwords en anglais et francais car tfidf est censé les écarter naturellement"
   ]
  },
  {
   "cell_type": "code",
   "execution_count": 4,
   "metadata": {
    "scrolled": false
   },
   "outputs": [],
   "source": [
    "X = hstack([tf_en.transform(train.text.tolist()), tf_fr.transform(train.text.tolist())])\n",
    "\n",
    "y = [1 if x == 'english' else 0 for x in train.type.tolist()]\n",
    "\n",
    "columns = list(tf_en.vocabulary_) + list(tf_fr.vocabulary_)\n",
    "\n",
    "Xtest = hstack([tf_en.transform(test.text.tolist()), tf_fr.transform(test.text.tolist())])"
   ]
  },
  {
   "cell_type": "code",
   "execution_count": 5,
   "metadata": {},
   "outputs": [
    {
     "data": {
      "text/plain": [
       "0"
      ]
     },
     "execution_count": 5,
     "metadata": {},
     "output_type": "execute_result"
    }
   ],
   "source": [
    "gc.collect()"
   ]
  },
  {
   "cell_type": "markdown",
   "metadata": {},
   "source": [
    "### Machine learning"
   ]
  },
  {
   "cell_type": "code",
   "execution_count": 6,
   "metadata": {},
   "outputs": [],
   "source": [
    "lgbTrain = lgb.Dataset(X, y, feature_name = columns, free_raw_data = True)"
   ]
  },
  {
   "cell_type": "code",
   "execution_count": 7,
   "metadata": {},
   "outputs": [],
   "source": [
    "params = {'objective': 'binary',\n",
    "          'learning_rate' : 0.1}\n",
    "\n",
    "# https://stackoverflow.com/questions/50931168/f1-score-metric-in-lightgbm\n",
    "def lgb_f1_score(y_hat, data):\n",
    "    y_true = data.get_label()\n",
    "    y_hat = np.round(y_hat)\n",
    "    return 'f1', f1_score(y_true, y_hat), True"
   ]
  },
  {
   "cell_type": "code",
   "execution_count": 8,
   "metadata": {},
   "outputs": [
    {
     "name": "stdout",
     "output_type": "stream",
     "text": [
      "[10]\tcv_agg's binary_logloss: 0.629718 + 0.0024713\tcv_agg's f1: 0.871272 + 0.0180137\n",
      "[20]\tcv_agg's binary_logloss: 0.577914 + 0.00472005\tcv_agg's f1: 0.889529 + 0.0174238\n",
      "[30]\tcv_agg's binary_logloss: 0.534437 + 0.0066212\tcv_agg's f1: 0.894668 + 0.0148158\n",
      "[40]\tcv_agg's binary_logloss: 0.497589 + 0.00815099\tcv_agg's f1: 0.891692 + 0.0172525\n",
      "[50]\tcv_agg's binary_logloss: 0.466094 + 0.00968234\tcv_agg's f1: 0.891528 + 0.0162924\n",
      "[60]\tcv_agg's binary_logloss: 0.439035 + 0.0112087\tcv_agg's f1: 0.890941 + 0.0161748\n",
      "[70]\tcv_agg's binary_logloss: 0.415583 + 0.0125037\tcv_agg's f1: 0.892709 + 0.0158931\n",
      "[80]\tcv_agg's binary_logloss: 0.395105 + 0.0136884\tcv_agg's f1: 0.891679 + 0.0161534\n",
      "[90]\tcv_agg's binary_logloss: 0.377075 + 0.0148123\tcv_agg's f1: 0.893151 + 0.0164889\n",
      "[100]\tcv_agg's binary_logloss: 0.36145 + 0.0159412\tcv_agg's f1: 0.892439 + 0.0166517\n",
      "[110]\tcv_agg's binary_logloss: 0.347708 + 0.0168362\tcv_agg's f1: 0.892962 + 0.0180096\n",
      "[120]\tcv_agg's binary_logloss: 0.335593 + 0.0177088\tcv_agg's f1: 0.891426 + 0.0188468\n",
      "[130]\tcv_agg's binary_logloss: 0.324922 + 0.0184802\tcv_agg's f1: 0.89222 + 0.0176987\n",
      "[140]\tcv_agg's binary_logloss: 0.315308 + 0.0190494\tcv_agg's f1: 0.892021 + 0.0171217\n",
      "[150]\tcv_agg's binary_logloss: 0.306874 + 0.0193164\tcv_agg's f1: 0.891943 + 0.0162658\n"
     ]
    }
   ],
   "source": [
    "lgbCv = lgb.cv(params, lgbTrain,\n",
    "               num_boost_round = 150, stratified = True,\n",
    "               shuffle = True, nfold = 10, feval = lgb_f1_score, verbose_eval = 10, seed = 2701)"
   ]
  },
  {
   "cell_type": "code",
   "execution_count": 9,
   "metadata": {},
   "outputs": [
    {
     "data": {
      "text/plain": [
       "31"
      ]
     },
     "execution_count": 9,
     "metadata": {},
     "output_type": "execute_result"
    }
   ],
   "source": [
    "bestIter = int(lgbCv['f1-mean'].index(max(lgbCv['f1-mean']))/(1-1/10))\n",
    "bestIter"
   ]
  },
  {
   "cell_type": "code",
   "execution_count": 10,
   "metadata": {},
   "outputs": [],
   "source": [
    "lgbModel = lgb.train(params, lgbTrain, num_boost_round = bestIter)"
   ]
  },
  {
   "cell_type": "code",
   "execution_count": 11,
   "metadata": {},
   "outputs": [
    {
     "data": {
      "text/plain": [
       "<matplotlib.axes._subplots.AxesSubplot at 0x7f5df0f5d710>"
      ]
     },
     "execution_count": 11,
     "metadata": {},
     "output_type": "execute_result"
    },
    {
     "data": {
      "image/png": "[encoded data removed]",
      "text/plain": [
       "<Figure size 432x288 with 1 Axes>"
      ]
     },
     "metadata": {
      "needs_background": "light"
     },
     "output_type": "display_data"
    }
   ],
   "source": [
    "lgb.plot_importance(lgbModel, max_num_features = 25)"
   ]
  },
  {
   "cell_type": "markdown",
   "metadata": {},
   "source": [
    "### Predict and save"
   ]
  },
  {
   "cell_type": "code",
   "execution_count": 12,
   "metadata": {},
   "outputs": [
    {
     "name": "stderr",
     "output_type": "stream",
     "text": [
      "/home/dataexmachina/DataProjects/CrowdAI/ONU_DigitalizationChallenge/crowdai-venv/lib/python3.5/site-packages/lightgbm/basic.py:448: UserWarning: Converting data to scipy sparse matrix.\n",
      "  warnings.warn('Converting data to scipy sparse matrix.')\n"
     ]
    }
   ],
   "source": [
    "test['en'] = np.round(lgbModel.predict(Xtest))\n",
    "test['fr'] = 1 - test['en']"
   ]
  },
  {
   "cell_type": "code",
   "execution_count": 13,
   "metadata": {},
   "outputs": [
    {
     "data": {
      "text/html": [
       "<div>\n",
       "<style scoped>\n",
       "    .dataframe tbody tr th:only-of-type {\n",
       "        vertical-align: middle;\n",
       "    }\n",
       "\n",
       "    .dataframe tbody tr th {\n",
       "        vertical-align: top;\n",
       "    }\n",
       "\n",
       "    .dataframe thead th {\n",
       "        text-align: right;\n",
       "    }\n",
       "</style>\n",
       "<table border=\"1\" class=\"dataframe\">\n",
       "  <thead>\n",
       "    <tr style=\"text-align: right;\">\n",
       "      <th></th>\n",
       "      <th>id</th>\n",
       "      <th>text</th>\n",
       "      <th>en</th>\n",
       "      <th>fr</th>\n",
       "    </tr>\n",
       "  </thead>\n",
       "  <tbody>\n",
       "    <tr>\n",
       "      <th>0</th>\n",
       "      <td>56d0687284da6482faaa4a9afede7722</td>\n",
       "      <td>DLiasus O° NATIONS.\\n\\nveneva, Mereh 20th, 193...</td>\n",
       "      <td>1.0</td>\n",
       "      <td>0.0</td>\n",
       "    </tr>\n",
       "    <tr>\n",
       "      <th>1</th>\n",
       "      <td>8e988cca9bab61b6ef4c1ae5b742c5aa</td>\n",
       "      <td>nowonts\\n\\nNombres-indices par rapport aux chi...</td>\n",
       "      <td>1.0</td>\n",
       "      <td>0.0</td>\n",
       "    </tr>\n",
       "    <tr>\n",
       "      <th>2</th>\n",
       "      <td>b6e026cc2c57ae5c3cf0dd19ddd607b0</td>\n",
       "      <td>\\n\\nPEERS.\\n\\n \\n\\n \\n\\nko further l¢zislatio...</td>\n",
       "      <td>1.0</td>\n",
       "      <td>0.0</td>\n",
       "    </tr>\n",
       "    <tr>\n",
       "      <th>3</th>\n",
       "      <td>e0aff017251bc023e4ff44fd8b701456</td>\n",
       "      <td>Sea\\n\\nThe construction of 2,742 houses repres...</td>\n",
       "      <td>1.0</td>\n",
       "      <td>0.0</td>\n",
       "    </tr>\n",
       "    <tr>\n",
       "      <th>4</th>\n",
       "      <td>5e484277809181c2c873beffffda182c</td>\n",
       "      <td>&lt;p\\n\\nBudget (continued) -\\n\\nMonthly (continu...</td>\n",
       "      <td>1.0</td>\n",
       "      <td>0.0</td>\n",
       "    </tr>\n",
       "  </tbody>\n",
       "</table>\n",
       "</div>"
      ],
      "text/plain": [
       "                                 id  \\\n",
       "0  56d0687284da6482faaa4a9afede7722   \n",
       "1  8e988cca9bab61b6ef4c1ae5b742c5aa   \n",
       "2  b6e026cc2c57ae5c3cf0dd19ddd607b0   \n",
       "3  e0aff017251bc023e4ff44fd8b701456   \n",
       "4  5e484277809181c2c873beffffda182c   \n",
       "\n",
       "                                                text   en   fr  \n",
       "0  DLiasus O° NATIONS.\\n\\nveneva, Mereh 20th, 193...  1.0  0.0  \n",
       "1  nowonts\\n\\nNombres-indices par rapport aux chi...  1.0  0.0  \n",
       "2   \\n\\nPEERS.\\n\\n \\n\\n \\n\\nko further l¢zislatio...  1.0  0.0  \n",
       "3  Sea\\n\\nThe construction of 2,742 houses repres...  1.0  0.0  \n",
       "4  <p\\n\\nBudget (continued) -\\n\\nMonthly (continu...  1.0  0.0  "
      ]
     },
     "execution_count": 13,
     "metadata": {},
     "output_type": "execute_result"
    }
   ],
   "source": [
    "test.head()"
   ]
  },
  {
   "cell_type": "code",
   "execution_count": 14,
   "metadata": {},
   "outputs": [],
   "source": [
    "test = test[['id', 'en', 'fr']]\n",
    "test.columns = ['filename', 'en', 'fr']\n",
    "test['filename'] = list(map(lambda x: x+'.jpg', test.filename.tolist()))"
   ]
  },
  {
   "cell_type": "code",
   "execution_count": 15,
   "metadata": {},
   "outputs": [],
   "source": [
    "try:\n",
    "    os.mkdir('../submit')\n",
    "except: None\n",
    "    \n",
    "test.to_csv('../submit/lgb2.csv', index = False)"
   ]
  },
  {
   "cell_type": "code",
   "execution_count": 16,
   "metadata": {},
   "outputs": [
    {
     "data": {
      "text/html": [
       "<div>\n",
       "<style scoped>\n",
       "    .dataframe tbody tr th:only-of-type {\n",
       "        vertical-align: middle;\n",
       "    }\n",
       "\n",
       "    .dataframe tbody tr th {\n",
       "        vertical-align: top;\n",
       "    }\n",
       "\n",
       "    .dataframe thead th {\n",
       "        text-align: right;\n",
       "    }\n",
       "</style>\n",
       "<table border=\"1\" class=\"dataframe\">\n",
       "  <thead>\n",
       "    <tr style=\"text-align: right;\">\n",
       "      <th></th>\n",
       "      <th>filename</th>\n",
       "      <th>en</th>\n",
       "      <th>fr</th>\n",
       "    </tr>\n",
       "  </thead>\n",
       "  <tbody>\n",
       "    <tr>\n",
       "      <th>0</th>\n",
       "      <td>56d0687284da6482faaa4a9afede7722.jpg</td>\n",
       "      <td>1.0</td>\n",
       "      <td>0.0</td>\n",
       "    </tr>\n",
       "    <tr>\n",
       "      <th>1</th>\n",
       "      <td>8e988cca9bab61b6ef4c1ae5b742c5aa.jpg</td>\n",
       "      <td>1.0</td>\n",
       "      <td>0.0</td>\n",
       "    </tr>\n",
       "    <tr>\n",
       "      <th>2</th>\n",
       "      <td>b6e026cc2c57ae5c3cf0dd19ddd607b0.jpg</td>\n",
       "      <td>1.0</td>\n",
       "      <td>0.0</td>\n",
       "    </tr>\n",
       "    <tr>\n",
       "      <th>3</th>\n",
       "      <td>e0aff017251bc023e4ff44fd8b701456.jpg</td>\n",
       "      <td>1.0</td>\n",
       "      <td>0.0</td>\n",
       "    </tr>\n",
       "    <tr>\n",
       "      <th>4</th>\n",
       "      <td>5e484277809181c2c873beffffda182c.jpg</td>\n",
       "      <td>1.0</td>\n",
       "      <td>0.0</td>\n",
       "    </tr>\n",
       "  </tbody>\n",
       "</table>\n",
       "</div>"
      ],
      "text/plain": [
       "                               filename   en   fr\n",
       "0  56d0687284da6482faaa4a9afede7722.jpg  1.0  0.0\n",
       "1  8e988cca9bab61b6ef4c1ae5b742c5aa.jpg  1.0  0.0\n",
       "2  b6e026cc2c57ae5c3cf0dd19ddd607b0.jpg  1.0  0.0\n",
       "3  e0aff017251bc023e4ff44fd8b701456.jpg  1.0  0.0\n",
       "4  5e484277809181c2c873beffffda182c.jpg  1.0  0.0"
      ]
     },
     "execution_count": 16,
     "metadata": {},
     "output_type": "execute_result"
    }
   ],
   "source": [
    "test.head()"
   ]
  },
  {
   "cell_type": "code",
   "execution_count": null,
   "metadata": {},
   "outputs": [],
   "source": []
  }
 ],
 "metadata": {
  "kernelspec": {
   "display_name": "Python 3",
   "language": "python",
   "name": "python3"
  },
  "language_info": {
   "codemirror_mode": {
    "name": "ipython",
    "version": 3
   },
   "file_extension": ".py",
   "mimetype": "text/x-python",
   "name": "python",
   "nbconvert_exporter": "python",
   "pygments_lexer": "ipython3",
   "version": "3.5.2"
  }
 },
 "nbformat": 4,
 "nbformat_minor": 2
}
